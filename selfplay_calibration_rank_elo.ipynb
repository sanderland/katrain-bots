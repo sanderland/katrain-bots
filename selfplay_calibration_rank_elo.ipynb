{
 "cells": [
  {
   "cell_type": "code",
   "execution_count": 65,
   "metadata": {},
   "outputs": [],
   "source": [
    "import json\n",
    "import math\n",
    "import pickle\n",
    "import sys\n",
    "import threading\n",
    "import time\n",
    "import traceback\n",
    "from collections import defaultdict\n",
    "from concurrent.futures.thread import ThreadPoolExecutor\n",
    "import numpy as np\n",
    "from elote import EloCompetitor\n",
    "from katrain.core.constants import (\n",
    "    AI_LOCAL,\n",
    "    AI_RANK,\n",
    "    AI_TENUKI,\n",
    "    AI_WEIGHTED,\n",
    "    AI_PICK,\n",
    "    AI_TERRITORY,\n",
    "    AI_POLICY,AI_INFLUENCE\n",
    ")\n",
    "\n",
    "from settings import Logger\n",
    "import matplotlib.pyplot as plt"
   ]
  },
  {
   "cell_type": "code",
   "execution_count": 8,
   "metadata": {},
   "outputs": [],
   "source": [
    "DB_FILENAME = \"tournament_ai_performance.pickle\"\n",
    "class AI:\n",
    "    pass\n",
    "\n",
    "class FixedEloCompetitor(EloCompetitor):  # rating doesn't update on wins/losses\n",
    "    pass\n",
    "    \n",
    "with open(DB_FILENAME, \"rb\") as f:\n",
    "    ai_database,_ = pickle.load(f)"
   ]
  },
  {
   "cell_type": "code",
   "execution_count": 26,
   "metadata": {},
   "outputs": [],
   "source": [
    "from sklearn.linear_model import LinearRegression\n",
    "ranked = [ai for ai in ai_database if ai.strategy==AI_RANK]\n",
    "calibrate = [ai for ai in ai_database if ai.strategy==AI_WEIGHTED]\n",
    "policy = [ai for ai in ai_database if ai.strategy==AI_POLICY and ai.ai_settings['opening_moves']==0][0]\n",
    "policy_elo = 1700\n",
    "kyu_elo = [(r.ai_settings['kyu_rank'],r.elo_comp.rating) for r in ranked]\n",
    "#kyu_elo.append( (-5,policy.elo_comp.rating) ) # policy ~5d\n",
    "kyu_elo = sorted(kyu_elo)\n",
    "kyu,elo = zip(*kyu_elo)\n"
   ]
  },
  {
   "cell_type": "code",
   "execution_count": 27,
   "metadata": {},
   "outputs": [
    {
     "data": {
      "text/plain": [
       "[<matplotlib.lines.Line2D at 0x1e5462be240>,\n",
       " <matplotlib.lines.Line2D at 0x1e5462be390>]"
      ]
     },
     "execution_count": 27,
     "metadata": {},
     "output_type": "execute_result"
    },
    {
     "data": {
      "image/png": "[encoded data removed]",
      "text/plain": [
       "<Figure size 432x288 with 1 Axes>"
      ]
     },
     "metadata": {
      "needs_background": "light"
     },
     "output_type": "display_data"
    }
   ],
   "source": [
    "kyu2 = np.array(kyu)[:,np.newaxis]\n",
    "reg = LinearRegression().fit(kyu2,elo)\n",
    "plt.plot(kyu,elo,kyu,reg.predict(kyu2))"
   ]
  },
  {
   "cell_type": "code",
   "execution_count": 28,
   "metadata": {},
   "outputs": [],
   "source": [
    "wt_elo =  [([r.ai_settings['weaken_fac']],r.elo_comp.rating) for r in calibrate]\n",
    "x,y = zip(*wt_elo)\n",
    "reg = LinearRegression().fit(x, y)\n",
    "py = reg.predict(x)"
   ]
  },
  {
   "cell_type": "code",
   "execution_count": 29,
   "metadata": {},
   "outputs": [
    {
     "ename": "NameError",
     "evalue": "name 'ys' is not defined",
     "output_type": "error",
     "traceback": [
      "\u001b[1;31m---------------------------------------------------------------------------\u001b[0m",
      "\u001b[1;31mNameError\u001b[0m                                 Traceback (most recent call last)",
      "\u001b[1;32m<ipython-input-29-dacc7a135c48>\u001b[0m in \u001b[0;36m<module>\u001b[1;34m\u001b[0m\n\u001b[1;32m----> 1\u001b[1;33m \u001b[0mplt\u001b[0m\u001b[1;33m.\u001b[0m\u001b[0mplot\u001b[0m\u001b[1;33m(\u001b[0m\u001b[0mx\u001b[0m\u001b[1;33m,\u001b[0m\u001b[0my\u001b[0m\u001b[1;33m,\u001b[0m\u001b[0mx\u001b[0m\u001b[1;33m,\u001b[0m\u001b[0mpy\u001b[0m\u001b[1;33m,\u001b[0m\u001b[0mx\u001b[0m\u001b[1;33m,\u001b[0m\u001b[0mys\u001b[0m\u001b[1;33m)\u001b[0m\u001b[1;33m\u001b[0m\u001b[1;33m\u001b[0m\u001b[0m\n\u001b[0m",
      "\u001b[1;31mNameError\u001b[0m: name 'ys' is not defined"
     ]
    }
   ],
   "source": [
    "plt.plot(x,y,x,py,x,ys)"
   ]
  },
  {
   "cell_type": "code",
   "execution_count": 30,
   "metadata": {},
   "outputs": [],
   "source": [
    "DB_FILENAME = \"calibrated_ai_performance.jank.pickle\"\n",
    "with open(DB_FILENAME, \"rb\") as f:\n",
    "    ai_database_jank,_ = pickle.load(f)"
   ]
  },
  {
   "cell_type": "code",
   "execution_count": 66,
   "metadata": {},
   "outputs": [],
   "source": [
    "strat = AI_LOCAL\n",
    "strat = AI_TENUKI\n",
    "strat = AI_TERRITORY\n",
    "strat = AI_INFLUENCE\n",
    "local = [ai for ai in ai_database_jank if ai.strategy==strat]\n",
    "loc_elo =  [([r.ai_settings['pick_frac'],r.ai_settings['pick_n']],min(policy_elo,r.elo_comp.rating)) for r in local]\n",
    "loc,elo = zip(*loc_elo)\n",
    "\n",
    "frac, n = zip(*loc)"
   ]
  },
  {
   "cell_type": "code",
   "execution_count": 67,
   "metadata": {},
   "outputs": [],
   "source": [
    "frac_x = np.unique(frac)\n",
    "n_y = np.unique(n)\n",
    "matrix = np.zeros( (len(n_y),len(frac_x)) )"
   ]
  },
  {
   "cell_type": "code",
   "execution_count": 68,
   "metadata": {},
   "outputs": [],
   "source": [
    "for (f,n),elo in loc_elo:\n",
    "    xi, = np.where(frac_x==f)\n",
    "    yi, = np.where(n_y==n)\n",
    "    matrix[yi[0]][xi[0]] = elo\n",
    "    "
   ]
  },
  {
   "cell_type": "code",
   "execution_count": 69,
   "metadata": {},
   "outputs": [
    {
     "data": {
      "text/plain": [
       "array([[1433.95918299,  483.92246022,  703.63329745,  898.80416596,\n",
       "        1041.90611617, 1180.64701643, 1521.22844832, 1488.6024259 ],\n",
       "       [ 285.94611239,  598.8780026 ,  673.84809013,  866.82639882,\n",
       "        1032.48205655, 1334.28471216, 1502.55097318, 1571.77459082],\n",
       "       [ 478.3702873 ,  643.86832596,  837.73488668,  945.32330087,\n",
       "        1093.1194852 , 1396.09368572, 1484.49392758, 1564.14926031],\n",
       "       [ 570.84132865,  689.70796295,  848.31920809, 1021.70892457,\n",
       "        1143.30909057, 1371.45351738, 1507.48527553, 1592.641045  ],\n",
       "       [ 749.49540671,  771.14405424,  865.1381579 , 1019.89505654,\n",
       "        1107.95940949, 1383.37350536, 1508.29834616, 1549.81515732],\n",
       "       [ 882.9691111 ,  902.88516506, 1057.30531618, 1178.39618159,\n",
       "        1369.47479768, 1518.30319563, 1501.77213607, 1497.50803245]])"
      ]
     },
     "execution_count": 69,
     "metadata": {},
     "output_type": "execute_result"
    }
   ],
   "source": [
    "matrix"
   ]
  },
  {
   "cell_type": "code",
   "execution_count": 49,
   "metadata": {},
   "outputs": [
    {
     "data": {
      "text/plain": [
       "array([ 0,  5, 10, 15, 25, 50])"
      ]
     },
     "execution_count": 49,
     "metadata": {},
     "output_type": "execute_result"
    }
   ],
   "source": [
    "n_y"
   ]
  },
  {
   "cell_type": "code",
   "execution_count": null,
   "metadata": {},
   "outputs": [],
   "source": []
  }
 ],
 "metadata": {
  "kernelspec": {
   "display_name": "Python 3",
   "language": "python",
   "name": "python3"
  },
  "language_info": {
   "codemirror_mode": {
    "name": "ipython",
    "version": 3
   },
   "file_extension": ".py",
   "mimetype": "text/x-python",
   "name": "python",
   "nbconvert_exporter": "python",
   "pygments_lexer": "ipython3",
   "version": "3.7.3"
  }
 },
 "nbformat": 4,
 "nbformat_minor": 2
}
