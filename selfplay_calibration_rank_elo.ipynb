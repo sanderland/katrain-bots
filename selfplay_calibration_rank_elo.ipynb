{
 "cells": [
  {
   "cell_type": "code",
   "execution_count": 36,
   "metadata": {},
   "outputs": [],
   "source": [
    "import json\n",
    "import math\n",
    "import pickle\n",
    "import sys\n",
    "import threading\n",
    "import time\n",
    "import traceback\n",
    "from collections import defaultdict\n",
    "from concurrent.futures.thread import ThreadPoolExecutor\n",
    "import numpy as np\n",
    "from elote import EloCompetitor\n",
    "from katrain.core.constants import (\n",
    "    AI_LOCAL,\n",
    "    AI_RANK,\n",
    "    AI_TENUKI,\n",
    "    AI_WEIGHTED,\n",
    "    AI_PICK,\n",
    "    AI_TERRITORY,\n",
    "    AI_POLICY,AI_INFLUENCE\n",
    ")\n",
    "\n",
    "from settings import Logger\n",
    "import matplotlib.pyplot as plt"
   ]
  },
  {
   "cell_type": "code",
   "execution_count": 37,
   "metadata": {},
   "outputs": [],
   "source": [
    "DB_FILENAME = \"tournament_ai_performance.pickle\"\n",
    "class AI:\n",
    "    pass\n",
    "\n",
    "class FixedEloCompetitor(EloCompetitor):  # rating doesn't update on wins/losses\n",
    "    pass\n",
    "    \n",
    "with open(DB_FILENAME, \"rb\") as f:\n",
    "    ai_database,_ = pickle.load(f)"
   ]
  },
  {
   "cell_type": "code",
   "execution_count": 38,
   "metadata": {},
   "outputs": [],
   "source": [
    "from sklearn.linear_model import LinearRegression\n",
    "ranked = [ai for ai in ai_database if ai.strategy==AI_RANK]\n",
    "calibrate = [ai for ai in ai_database if ai.strategy==AI_WEIGHTED]\n",
    "policy = [ai for ai in ai_database if ai.strategy==AI_POLICY and ai.ai_settings['opening_moves']==0][0]\n",
    "policy_elo = 1700\n",
    "kyu_elo = [(r.ai_settings['kyu_rank'],r.elo_comp.rating) for r in ranked]\n",
    "#kyu_elo.append( (-5,policy.elo_comp.rating) ) # policy ~5d\n",
    "kyu_elo = sorted(kyu_elo)\n",
    "kyu,elo = zip(*kyu_elo)\n"
   ]
  },
  {
   "cell_type": "code",
   "execution_count": 39,
   "metadata": {},
   "outputs": [
    {
     "data": {
      "text/plain": [
       "[<matplotlib.lines.Line2D at 0x7f5fd02e8f60>,\n",
       " <matplotlib.lines.Line2D at 0x7f5fd02f50b8>]"
      ]
     },
     "execution_count": 39,
     "metadata": {},
     "output_type": "execute_result"
    },
    {
     "data": {
      "image/png": "[encoded data removed]",
      "text/plain": [
       "<Figure size 432x288 with 1 Axes>"
      ]
     },
     "metadata": {
      "needs_background": "light"
     },
     "output_type": "display_data"
    }
   ],
   "source": [
    "kyu2 = np.array(kyu)[:,np.newaxis]\n",
    "reg = LinearRegression().fit(kyu2,elo)\n",
    "plt.plot(kyu,elo,kyu,reg.predict(kyu2))"
   ]
  },
  {
   "cell_type": "code",
   "execution_count": 40,
   "metadata": {},
   "outputs": [
    {
     "data": {
      "text/plain": [
       "[(-4, 1392.5226294653357),\n",
       " (-3, 1328.2407152976634),\n",
       " (-2, 1263.9588011299913),\n",
       " (-1, 1199.6768869623193),\n",
       " (0, 1135.3949727946472),\n",
       " (1, 1071.113058626975),\n",
       " (2, 1006.8311444593029),\n",
       " (3, 942.5492302916308),\n",
       " (4, 878.2673161239586),\n",
       " (5, 813.9854019562865),\n",
       " (6, 749.7034877886144),\n",
       " (7, 685.4215736209424),\n",
       " (8, 621.1396594532702),\n",
       " (9, 556.8577452855981),\n",
       " (10, 492.5758311179259),\n",
       " (11, 428.2939169502538),\n",
       " (12, 364.0120027825817),\n",
       " (13, 299.7300886149095),\n",
       " (14, 235.44817444723742),\n",
       " (15, 171.16626027956522),\n",
       " (16, 106.88434611189314),\n",
       " (17, 42.60243194422105),\n",
       " (18, -21.679482223451032)]"
      ]
     },
     "execution_count": 40,
     "metadata": {},
     "output_type": "execute_result"
    }
   ],
   "source": [
    "list(zip(kyu,reg.predict(kyu2)))"
   ]
  },
  {
   "cell_type": "code",
   "execution_count": 41,
   "metadata": {},
   "outputs": [],
   "source": [
    "wt_elo =  [([r.ai_settings['weaken_fac']],r.elo_comp.rating) for r in calibrate]\n",
    "x,y = zip(*wt_elo)\n",
    "reg = LinearRegression().fit(x, y)\n",
    "py = reg.predict(x)"
   ]
  },
  {
   "cell_type": "code",
   "execution_count": 42,
   "metadata": {},
   "outputs": [
    {
     "data": {
      "text/plain": [
       "[(0.0, 539),\n",
       " (0.05, 625),\n",
       " (0.1, 859),\n",
       " (0.2, 1035),\n",
       " (0.3, 1201),\n",
       " (0.4, 1299),\n",
       " (0.5, 1346),\n",
       " (0.75, 1374),\n",
       " (1.0, 1386),\n",
       " (1.5, 1376),\n",
       " (2.0, 1370),\n",
       " (3.0, 1383)]"
      ]
     },
     "execution_count": 42,
     "metadata": {},
     "output_type": "execute_result"
    }
   ],
   "source": [
    "DB_FILENAME = \"calibrated_ai_performance.scoreloss.pickle\"\n",
    "with open(DB_FILENAME, \"rb\") as f:\n",
    "    ai_database_sl,_ = pickle.load(f)\n",
    "str_elo =  [([r.ai_settings['strength']],r.elo_comp.rating) for r in ai_database_sl]\n",
    "[(a[0],round(b)) for a,b in str_elo]"
   ]
  },
  {
   "cell_type": "code",
   "execution_count": 47,
   "metadata": {},
   "outputs": [],
   "source": [
    "DB_FILENAME = \"calibrated_ai_performance.jank.pickle\"\n",
    "with open(DB_FILENAME, \"rb\") as f:\n",
    "    ai_database_jank,_ = pickle.load(f)"
   ]
  },
  {
   "cell_type": "code",
   "execution_count": 48,
   "metadata": {},
   "outputs": [
    {
     "name": "stdout",
     "output_type": "stream",
     "text": [
      "AI_LOCAL_ELO_GRID = [[0.0, 0.05, 0.1, 0.2, 0.3, 0.5, 0.75, 1.0],[0, 5, 10, 15, 25, 50],[[-204.0, 791.0, 1154.0, 1372.0, 1480.0, 1473.0, 1700.0, 1700.0], [174.0, 1094.0, 1191.0, 1427.0, 1435.0, 1522.0, 1700.0, 1700.0], [619.0, 1155.0, 1323.0, 1380.0, 1450.0, 1558.0, 1700.0, 1700.0], [975.0, 1289.0, 1425.0, 1363.0, 1436.0, 1616.0, 1700.0, 1700.0], [1348.0, 1344.0, 1358.0, 1467.0, 1477.0, 1552.0, 1700.0, 1700.0], [1425.0, 1474.0, 1489.0, 1524.0, 1571.0, 1700.0, 1700.0, 1700.0]]]\n",
      "AI_TENUKI_ELO_GRID = [[0.0, 0.05, 0.1, 0.2, 0.3, 0.5, 0.75, 1.0],[0, 5, 10, 15, 25, 50],[[241.0, 335.0, 530.0, 678.0, 830.0, 1075.0, 1414.0, 1700.0], [99.0, 469.0, 546.0, 707.0, 902.0, 1051.0, 1413.0, 1700.0], [327.0, 513.0, 645.0, 745.0, 900.0, 1134.0, 1376.0, 1700.0], [429.0, 519.0, 581.0, 754.0, 855.0, 1091.0, 1435.0, 1700.0], [492.0, 607.0, 682.0, 797.0, 873.0, 1208.0, 1454.0, 1700.0], [778.0, 830.0, 909.0, 949.0, 1169.0, 1461.0, 1483.0, 1700.0]]]\n",
      "AI_TERRITORY_ELO_GRID = [[0.0, 0.05, 0.1, 0.2, 0.3, 0.5, 0.75, 1.0],[0, 5, 10, 15, 25, 50],[[34.0, 383.0, 566.0, 748.0, 992.0, 1264.0, 1547.0, 1700.0], [131.0, 517.0, 627.0, 826.0, 994.0, 1262.0, 1527.0, 1700.0], [291.0, 536.0, 586.0, 878.0, 937.0, 1342.0, 1547.0, 1700.0], [454.0, 526.0, 696.0, 850.0, 1038.0, 1275.0, 1529.0, 1700.0], [491.0, 603.0, 747.0, 792.0, 1050.0, 1390.0, 1635.0, 1700.0], [718.0, 841.0, 1039.0, 1076.0, 1332.0, 1523.0, 1700.0, 1700.0]]]\n",
      "AI_INFLUENCE_ELO_GRID = [[0.0, 0.05, 0.1, 0.2, 0.3, 0.5, 0.75, 1.0],[0, 5, 10, 15, 25, 50],[[217.0, 439.0, 592.0, 768.0, 1028.0, 1227.0, 1449.0, 1591.0], [302.0, 571.0, 580.0, 840.0, 961.0, 1164.0, 1499.0, 1529.0], [388.0, 592.0, 619.0, 776.0, 1097.0, 1305.0, 1490.0, 1561.0], [467.0, 581.0, 764.0, 878.0, 1018.0, 1426.0, 1531.0, 1673.0], [539.0, 622.0, 815.0, 953.0, 1120.0, 1420.0, 1560.0, 1521.0], [772.0, 912.0, 958.0, 1145.0, 1318.0, 1511.0, 1577.0, 1519.0]]]\n",
      "AI_PICK_ELO_GRID = [[0.0, 0.05, 0.1, 0.2, 0.3, 0.5, 0.75, 1.0],[0, 5, 10, 15, 25, 50],[[-533.0, -515.0, -355.0, 234.0, 650.0, 1147.0, 1546.0, 1700.0], [-531.0, -517.0, -69.0, 347.0, 647.0, 1182.0, 1550.0, 1700.0], [-535.0, -311.0, 140.0, 459.0, 693.0, 1252.0, 1548.0, 1700.0], [-365.0, -82.0, 265.0, 508.0, 864.0, 1301.0, 1619.0, 1700.0], [-113.0, 273.0, 363.0, 641.0, 983.0, 1486.0, 1700.0, 1700.0], [514.0, 670.0, 870.0, 1128.0, 1305.0, 1550.0, 1700.0, 1700.0]]]\n"
     ]
    }
   ],
   "source": [
    "for stratname in ['AI_LOCAL','AI_TENUKI','AI_TERRITORY','AI_INFLUENCE','AI_PICK']:\n",
    "    strat = eval(stratname)\n",
    "    pick_ais = [ai for ai in ai_database_jank if ai.strategy==strat]\n",
    "    settings_elo =  [([r.ai_settings['pick_frac'],r.ai_settings['pick_n']],min(policy_elo,r.elo_comp.rating)) for r in pick_ais]\n",
    "    settings,elo = zip(*settings_elo)\n",
    "    frac, n = zip(*settings)\n",
    "    \n",
    "    frac_x = np.unique(frac)\n",
    "    n_y = np.unique(n)\n",
    "    matrix = np.zeros( (len(n_y),len(frac_x)) )    \n",
    "    \n",
    "    for (f,n),elo in settings_elo:\n",
    "        xi, = np.where(frac_x==f)\n",
    "        yi, = np.where(n_y==n)\n",
    "        matrix[yi[0]][xi[0]] = round(elo)\n",
    "        \n",
    "    print(f\"{stratname}_ELO_GRID = [{repr(list(frac_x))},{repr(list(n_y))},{repr(list(list(x) for x in matrix))}]\")"
   ]
  },
  {
   "cell_type": "code",
   "execution_count": 56,
   "metadata": {},
   "outputs": [],
   "source": [
    "def check_monotonicity(a):\n",
    "    for row in a:\n",
    "        print(row,all(a >= b for a,b in zip(row[1:],row[:-1])))\n",
    "    a = np.transpose(a)\n",
    "    for row in a:\n",
    "        print(row,all(a >= b for a,b in zip(row[1:],row[:-1])))\n",
    "    "
   ]
  },
  {
   "cell_type": "code",
   "execution_count": 71,
   "metadata": {},
   "outputs": [
    {
     "name": "stdout",
     "output_type": "stream",
     "text": [
      "[-204.0, 791.0, 1154.0, 1372.0, 1402.0, 1473.0, 1700.0, 1700.0] True\n",
      "[174.0, 1094.0, 1191.0, 1384.0, 1435.0, 1522.0, 1700.0, 1700.0] True\n",
      "[619.0, 1155.0, 1323.0, 1390.0, 1450.0, 1558.0, 1700.0, 1700.0] True\n",
      "[975.0, 1289.0, 1332.0, 1401.0, 1461.0, 1575.0, 1700.0, 1700.0] True\n",
      "[1344.0, 1348.0, 1358.0, 1467.0, 1477.0, 1616.0, 1700.0, 1700.0] True\n",
      "[1425.0, 1474.0, 1489.0, 1524.0, 1571.0, 1700.0, 1700.0, 1700.0] True\n",
      "[-204.  174.  619.  975. 1344. 1425.] True\n",
      "[ 791. 1094. 1155. 1289. 1348. 1474.] True\n",
      "[1154. 1191. 1323. 1332. 1358. 1489.] True\n",
      "[1372. 1384. 1390. 1401. 1467. 1524.] True\n",
      "[1402. 1435. 1450. 1461. 1477. 1571.] True\n",
      "[1473. 1522. 1558. 1575. 1616. 1700.] True\n",
      "[1700. 1700. 1700. 1700. 1700. 1700.] True\n",
      "[1700. 1700. 1700. 1700. 1700. 1700.] True\n"
     ]
    }
   ],
   "source": [
    "check_monotonicity(      [\n",
    "        [-204.0, 791.0, 1154.0, 1372.0, 1402.0, 1473.0, 1700.0, 1700.0],\n",
    "        [174.0, 1094.0, 1191.0, 1384.0, 1435.0, 1522.0, 1700.0, 1700.0],\n",
    "        [619.0, 1155.0, 1323.0, 1390.0, 1450.0, 1558.0, 1700.0, 1700.0],\n",
    "        [975.0, 1289.0, 1332.0, 1401.0, 1461.0, 1575.0, 1700.0, 1700.0],\n",
    "        [1344.0, 1348.0, 1358.0, 1467.0, 1477.0, 1616.0, 1700.0, 1700.0],\n",
    "        [1425.0, 1474.0, 1489.0, 1524.0, 1571.0, 1700.0, 1700.0, 1700.0],\n",
    "    ] )"
   ]
  },
  {
   "cell_type": "code",
   "execution_count": null,
   "metadata": {},
   "outputs": [],
   "source": []
  }
 ],
 "metadata": {
  "kernelspec": {
   "display_name": "Python 3",
   "language": "python",
   "name": "python3"
  },
  "language_info": {
   "codemirror_mode": {
    "name": "ipython",
    "version": 3
   },
   "file_extension": ".py",
   "mimetype": "text/x-python",
   "name": "python",
   "nbconvert_exporter": "python",
   "pygments_lexer": "ipython3",
   "version": "3.7.3"
  }
 },
 "nbformat": 4,
 "nbformat_minor": 2
}
