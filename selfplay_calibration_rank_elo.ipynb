{
 "cells": [
  {
   "cell_type": "code",
   "execution_count": 2,
   "metadata": {},
   "outputs": [
    {
     "name": "stderr",
     "output_type": "stream",
     "text": [
      "[INFO   ] [Logger      ] Record log in /home/sander/.kivy/logs/kivy_20-07-06_119.txt\n",
      "[INFO   ] [Kivy        ] v2.0.0rc2, git-Unknown, 20200701\n",
      "[INFO   ] [Kivy        ] Installed at \"/home/sander/anaconda3/lib/python3.7/site-packages/kivy/__init__.py\"\n",
      "[INFO   ] [Python      ] v3.7.3 (default, Mar 27 2019, 22:11:17) \n",
      "[GCC 7.3.0]\n",
      "[INFO   ] [Python      ] Interpreter at \"/home/sander/anaconda3/bin/python\"\n"
     ]
    }
   ],
   "source": [
    "import json\n",
    "import math\n",
    "import pickle\n",
    "import sys\n",
    "import threading\n",
    "import time\n",
    "import traceback\n",
    "from collections import defaultdict\n",
    "from concurrent.futures.thread import ThreadPoolExecutor\n",
    "import numpy as np\n",
    "from elote import EloCompetitor\n",
    "from katrain.core.constants import (\n",
    "    AI_LOCAL,\n",
    "    AI_RANK,\n",
    "    AI_TENUKI,\n",
    "    AI_WEIGHTED,\n",
    "    AI_PICK,\n",
    "    AI_TERRITORY,\n",
    "    AI_POLICY,AI_INFLUENCE\n",
    ")\n",
    "\n",
    "from settings import Logger\n",
    "import matplotlib.pyplot as plt"
   ]
  },
  {
   "cell_type": "code",
   "execution_count": 3,
   "metadata": {},
   "outputs": [],
   "source": [
    "DB_FILENAME = \"tournament_ai_performance.pickle\"\n",
    "class AI:\n",
    "    pass\n",
    "\n",
    "class FixedEloCompetitor(EloCompetitor):  # rating doesn't update on wins/losses\n",
    "    pass\n",
    "    \n",
    "with open(DB_FILENAME, \"rb\") as f:\n",
    "    ai_database,_ = pickle.load(f)"
   ]
  },
  {
   "cell_type": "code",
   "execution_count": 4,
   "metadata": {},
   "outputs": [],
   "source": [
    "from sklearn.linear_model import LinearRegression\n",
    "ranked = [ai for ai in ai_database if ai.strategy==AI_RANK]\n",
    "calibrate = [ai for ai in ai_database if ai.strategy==AI_WEIGHTED]\n",
    "policy = [ai for ai in ai_database if ai.strategy==AI_POLICY and ai.ai_settings['opening_moves']==0][0]\n",
    "policy_elo = 1700\n",
    "kyu_elo = [(r.ai_settings['kyu_rank'],r.elo_comp.rating) for r in ranked]\n",
    "#kyu_elo.append( (-5,policy.elo_comp.rating) ) # policy ~5d\n",
    "kyu_elo = sorted(kyu_elo)\n",
    "kyu,elo = zip(*kyu_elo)\n"
   ]
  },
  {
   "cell_type": "code",
   "execution_count": 5,
   "metadata": {},
   "outputs": [
    {
     "data": {
      "text/plain": [
       "[<matplotlib.lines.Line2D at 0x7f5faaeabeb8>,\n",
       " <matplotlib.lines.Line2D at 0x7f5faaeabfd0>]"
      ]
     },
     "execution_count": 5,
     "metadata": {},
     "output_type": "execute_result"
    },
    {
     "data": {
      "image/png": "[encoded data removed]",
      "text/plain": [
       "<Figure size 432x288 with 1 Axes>"
      ]
     },
     "metadata": {
      "needs_background": "light"
     },
     "output_type": "display_data"
    }
   ],
   "source": [
    "kyu2 = np.array(kyu)[:,np.newaxis]\n",
    "reg = LinearRegression().fit(kyu2,elo)\n",
    "plt.plot(kyu,elo,kyu,reg.predict(kyu2))"
   ]
  },
  {
   "cell_type": "code",
   "execution_count": 6,
   "metadata": {},
   "outputs": [],
   "source": [
    "wt_elo =  [([r.ai_settings['weaken_fac']],r.elo_comp.rating) for r in calibrate]\n",
    "x,y = zip(*wt_elo)\n",
    "reg = LinearRegression().fit(x, y)\n",
    "py = reg.predict(x)"
   ]
  },
  {
   "cell_type": "code",
   "execution_count": 8,
   "metadata": {},
   "outputs": [],
   "source": [
    "DB_FILENAME = \"calibrated_ai_performance.jank.pickle\"\n",
    "with open(DB_FILENAME, \"rb\") as f:\n",
    "    ai_database_jank,_ = pickle.load(f)"
   ]
  },
  {
   "cell_type": "code",
   "execution_count": 15,
   "metadata": {},
   "outputs": [
    {
     "name": "stdout",
     "output_type": "stream",
     "text": [
      "AI_LOCAL_ELO_GRID = [[0.0, 0.05, 0.1, 0.2, 0.3, 0.5, 0.75, 1.0],[0, 5, 10, 15, 25, 50],[[450.0, 704.0, 1190.0, 1282.0, 1520.0, 1464.0, 1617.0, 1700.0], [153.0, 1079.0, 1144.0, 1335.0, 1440.0, 1525.0, 1700.0, 1700.0], [606.0, 1185.0, 1268.0, 1484.0, 1404.0, 1544.0, 1700.0, 1700.0], [911.0, 1230.0, 1312.0, 1352.0, 1432.0, 1564.0, 1700.0, 1700.0], [1212.0, 1326.0, 1393.0, 1441.0, 1446.0, 1601.0, 1700.0, 1700.0], [1321.0, 1395.0, 1399.0, 1473.0, 1582.0, 1700.0, 1700.0, 1700.0]]]\n",
      "AI_TENUKI_ELO_GRID = [[0.0, 0.05, 0.1, 0.2, 0.3, 0.5, 0.75, 1.0],[0, 5, 10, 15, 25, 50],[[491.0, 394.0, 527.0, 676.0, 732.0, 959.0, 1415.0, 1700.0], [21.0, 456.0, 620.0, 719.0, 812.0, 1027.0, 1308.0, 1700.0], [306.0, 480.0, 689.0, 705.0, 925.0, 1154.0, 1397.0, 1700.0], [286.0, 534.0, 636.0, 796.0, 968.0, 1077.0, 1443.0, 1700.0], [534.0, 645.0, 665.0, 846.0, 999.0, 1134.0, 1422.0, 1700.0], [746.0, 719.0, 806.0, 975.0, 1048.0, 1370.0, 1505.0, 1700.0]]]\n",
      "AI_TERRITORY_ELO_GRID = [[0.0, 0.05, 0.1, 0.2, 0.3, 0.5, 0.75, 1.0],[0, 5, 10, 15, 25, 50],[[512.0, 451.0, 640.0, 686.0, 929.0, 1112.0, 1533.0, 1700.0], [155.0, 419.0, 614.0, 761.0, 879.0, 1118.0, 1507.0, 1700.0], [338.0, 449.0, 716.0, 945.0, 949.0, 1282.0, 1520.0, 1700.0], [400.0, 495.0, 702.0, 875.0, 950.0, 1309.0, 1520.0, 1700.0], [570.0, 635.0, 707.0, 981.0, 922.0, 1346.0, 1519.0, 1700.0], [713.0, 772.0, 839.0, 1095.0, 1217.0, 1468.0, 1700.0, 1700.0]]]\n",
      "AI_INFLUENCE_ELO_GRID = [[0.0, 0.05, 0.1, 0.2, 0.3, 0.5, 0.75, 1.0],[0, 5, 10, 15, 25, 50],[[570.0, 293.0, 536.0, 774.0, 919.0, 1236.0, 1491.0, 1518.0], [238.0, 461.0, 628.0, 833.0, 859.0, 1211.0, 1459.0, 1592.0], [323.0, 513.0, 667.0, 837.0, 941.0, 1224.0, 1504.0, 1576.0], [407.0, 545.0, 659.0, 899.0, 988.0, 1215.0, 1483.0, 1602.0], [457.0, 713.0, 785.0, 856.0, 1142.0, 1309.0, 1508.0, 1506.0], [774.0, 903.0, 942.0, 1098.0, 1339.0, 1449.0, 1469.0, 1495.0]]]\n",
      "AI_PICK_ELO_GRID = [[0.0, 0.05, 0.1, 0.2, 0.3, 0.5, 0.75, 1.0],[0, 5, 10, 15, 25, 50],[[106.0, 148.0, 94.0, 218.0, 606.0, 1063.0, 1426.0, 1458.0], [114.0, 69.0, 278.0, 385.0, 683.0, 1099.0, 1425.0, 1517.0], [144.0, 174.0, 186.0, 452.0, 730.0, 1153.0, 1430.0, 1447.0], [145.0, 105.0, 380.0, 548.0, 863.0, 1233.0, 1423.0, 1448.0], [202.0, 251.0, 460.0, 651.0, 919.0, 1321.0, 1554.0, 1482.0], [472.0, 538.0, 816.0, 971.0, 1169.0, 1422.0, 1522.0, 1491.0]]]\n"
     ]
    }
   ],
   "source": [
    "for stratname in ['AI_LOCAL','AI_TENUKI','AI_TERRITORY','AI_INFLUENCE','AI_PICK']:\n",
    "    strat = eval(stratname)\n",
    "    pick_ais = [ai for ai in ai_database_jank if ai.strategy==strat]\n",
    "    settings_elo =  [([r.ai_settings['pick_frac'],r.ai_settings['pick_n']],min(policy_elo,r.elo_comp.rating)) for r in pick_ais]\n",
    "    settings,elo = zip(*settings_elo)\n",
    "    frac, n = zip(*settings)\n",
    "    \n",
    "    frac_x = np.unique(frac)\n",
    "    n_y = np.unique(n)\n",
    "    matrix = np.zeros( (len(n_y),len(frac_x)) )    \n",
    "    \n",
    "    for (f,n),elo in settings_elo:\n",
    "        xi, = np.where(frac_x==f)\n",
    "        yi, = np.where(n_y==n)\n",
    "        matrix[yi[0]][xi[0]] = round(elo)\n",
    "        \n",
    "    print(f\"{stratname}_ELO_GRID = [{repr(list(frac_x))},{repr(list(n_y))},{repr(list(list(x) for x in matrix))}]\")"
   ]
  },
  {
   "cell_type": "code",
   "execution_count": null,
   "metadata": {},
   "outputs": [],
   "source": []
  }
 ],
 "metadata": {
  "kernelspec": {
   "display_name": "Python 3",
   "language": "python",
   "name": "python3"
  },
  "language_info": {
   "codemirror_mode": {
    "name": "ipython",
    "version": 3
   },
   "file_extension": ".py",
   "mimetype": "text/x-python",
   "name": "python",
   "nbconvert_exporter": "python",
   "pygments_lexer": "ipython3",
   "version": "3.7.3"
  }
 },
 "nbformat": 4,
 "nbformat_minor": 2
}
